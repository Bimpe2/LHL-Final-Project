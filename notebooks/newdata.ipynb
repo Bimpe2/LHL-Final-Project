{
 "cells": [
  {
   "cell_type": "code",
   "execution_count": 1,
   "metadata": {},
   "outputs": [
    {
     "name": "stdout",
     "output_type": "stream",
     "text": [
      "Requirement already satisfied: tradingeconomics in /opt/anaconda3/lib/python3.11/site-packages (4.3.7)\n",
      "Requirement already satisfied: pandas in /opt/anaconda3/lib/python3.11/site-packages (from tradingeconomics) (2.1.4)\n",
      "Requirement already satisfied: websocket-client in /opt/anaconda3/lib/python3.11/site-packages (from tradingeconomics) (0.58.0)\n",
      "Requirement already satisfied: numpy<2,>=1.23.2 in /opt/anaconda3/lib/python3.11/site-packages (from pandas->tradingeconomics) (1.26.4)\n",
      "Requirement already satisfied: python-dateutil>=2.8.2 in /opt/anaconda3/lib/python3.11/site-packages (from pandas->tradingeconomics) (2.8.2)\n",
      "Requirement already satisfied: pytz>=2020.1 in /opt/anaconda3/lib/python3.11/site-packages (from pandas->tradingeconomics) (2023.3.post1)\n",
      "Requirement already satisfied: tzdata>=2022.1 in /opt/anaconda3/lib/python3.11/site-packages (from pandas->tradingeconomics) (2023.3)\n",
      "Requirement already satisfied: six in /opt/anaconda3/lib/python3.11/site-packages (from websocket-client->tradingeconomics) (1.16.0)\n",
      "Note: you may need to restart the kernel to use updated packages.\n"
     ]
    }
   ],
   "source": [
    "pip install tradingeconomics"
   ]
  },
  {
   "cell_type": "code",
   "execution_count": 2,
   "metadata": {},
   "outputs": [],
   "source": [
    "# te.getHistoricalData(country=['mexico', 'sweden'], indicator=['gdp','population'], \n",
    "#  initDate='2015-01-01')"
   ]
  },
  {
   "cell_type": "code",
   "execution_count": 3,
   "metadata": {},
   "outputs": [],
   "source": [
    "import tradingeconomics as te"
   ]
  },
  {
   "cell_type": "code",
   "execution_count": 4,
   "metadata": {},
   "outputs": [],
   "source": [
    "# te.login('TRADING_ECONOMICS_APIKEY')"
   ]
  },
  {
   "cell_type": "code",
   "execution_count": 1,
   "metadata": {},
   "outputs": [
    {
     "name": "stdout",
     "output_type": "stream",
     "text": [
      "[{'CalendarId': '4018', 'Date': '2013-03-07T14:00:00', 'Country': 'Mexico', 'Category': 'Inflation Rate', 'Event': 'Inflation Rate YoY', 'Reference': 'Feb 2013', 'ReferenceDate': '2013-02-28T00:00:00', 'Source': 'Instituto Nacional de Estadística y Geografía (INEGI)', 'SourceURL': 'http://www.inegi.org.mx/', 'Actual': '3.55%', 'Previous': '3.25%', 'Forecast': '', 'TEForecast': '', 'URL': '/mexico/inflation-cpi', 'DateSpan': '0', 'Importance': 2, 'LastUpdate': '2014-12-11T12:31:00', 'Revised': '', 'Currency': '', 'Unit': '%', 'Ticker': 'MXCPYOY', 'Symbol': 'MXCPYOY'}, {'CalendarId': '6305', 'Date': '2013-03-12T08:30:00', 'Country': 'Sweden', 'Category': 'Inflation Rate', 'Event': 'Inflation Rate YoY', 'Reference': 'Feb 2013', 'ReferenceDate': '2013-02-28T00:00:00', 'Source': 'Statistics Sweden', 'SourceURL': 'https://www.scb.se/', 'Actual': '-0.2%', 'Previous': '0.0%', 'Forecast': '-0.2%', 'TEForecast': '', 'URL': '/sweden/inflation-cpi', 'DateSpan': '0', 'Importance': 1, 'LastUpdate': '2014-12-11T12:31:00', 'Revised': '', 'Currency': '', 'Unit': '%', 'Ticker': 'SWCPYOY', 'Symbol': 'SWCPYOY'}, {'CalendarId': '5259', 'Date': '2013-04-01T05:00:00', 'Country': 'Thailand', 'Category': 'Inflation Rate', 'Event': 'Inflation Rate YoY', 'Reference': 'Mar 2013', 'ReferenceDate': '2013-03-31T00:00:00', 'Source': 'Bureau of Trade and Economic Indices, Ministry of Commerce, Thailand', 'SourceURL': 'http://www.price.moc.go.th', 'Actual': '2.7%', 'Previous': '3.2%', 'Forecast': '3.0%', 'TEForecast': '', 'URL': '/thailand/inflation-cpi', 'DateSpan': '0', 'Importance': 1, 'LastUpdate': '2014-12-11T12:31:00', 'Revised': '', 'Currency': '', 'Unit': '%', 'Ticker': 'THCPIYOY', 'Symbol': 'THCPIYOY'}, {'CalendarId': '4019', 'Date': '2013-04-09T14:00:00', 'Country': 'Mexico', 'Category': 'Inflation Rate', 'Event': 'Inflation Rate YoY', 'Reference': 'Mar 2013', 'ReferenceDate': '2013-03-31T00:00:00', 'Source': 'Instituto Nacional de Estadística y Geografía (INEGI)', 'SourceURL': 'http://www.inegi.org.mx/', 'Actual': '4.25%', 'Previous': '3.55%', 'Forecast': '4.22%', 'TEForecast': '', 'URL': '/mexico/inflation-cpi', 'DateSpan': '0', 'Importance': 2, 'LastUpdate': '2014-12-11T12:31:00', 'Revised': '', 'Currency': '', 'Unit': '%', 'Ticker': 'MXCPYOY', 'Symbol': 'MXCPYOY'}, {'CalendarId': '6306', 'Date': '2013-04-11T08:30:00', 'Country': 'Sweden', 'Category': 'Inflation Rate', 'Event': 'Inflation Rate YoY', 'Reference': 'Mar 2013', 'ReferenceDate': '2013-03-31T00:00:00', 'Source': 'Statistics Sweden', 'SourceURL': 'https://www.scb.se/', 'Actual': '0.0%', 'Previous': '-0.2%', 'Forecast': '', 'TEForecast': '', 'URL': '/sweden/inflation-cpi', 'DateSpan': '0', 'Importance': 1, 'LastUpdate': '2014-12-11T12:31:00', 'Revised': '', 'Currency': '', 'Unit': '%', 'Ticker': 'SWCPYOY', 'Symbol': 'SWCPYOY'}, {'CalendarId': '5517', 'Date': '2013-04-16T23:45:00', 'Country': 'New Zealand', 'Category': 'Inflation Rate', 'Event': 'Inflation Rate YoY', 'Reference': 'Q1 2013', 'ReferenceDate': '2013-03-31T00:00:00', 'Source': 'Statistics New Zealand', 'SourceURL': 'http://www.stats.govt.nz/', 'Actual': '0.9%', 'Previous': '0.9%', 'Forecast': '0.9%', 'TEForecast': '', 'URL': '/new-zealand/inflation-cpi', 'DateSpan': '0', 'Importance': 1, 'LastUpdate': '2014-12-11T12:31:00', 'Revised': '', 'Currency': '', 'Unit': '%', 'Ticker': 'NZCPIYOY', 'Symbol': 'NZCPIYOY'}, {'CalendarId': '5260', 'Date': '2013-05-01T05:30:00', 'Country': 'Thailand', 'Category': 'Inflation Rate', 'Event': 'Inflation Rate YoY', 'Reference': 'Apr 2013', 'ReferenceDate': '2013-04-30T00:00:00', 'Source': 'Bureau of Trade and Economic Indices, Ministry of Commerce, Thailand', 'SourceURL': 'http://www.price.moc.go.th', 'Actual': '2.4%', 'Previous': '2.7%', 'Forecast': '2.9%', 'TEForecast': '', 'URL': '/thailand/inflation-cpi', 'DateSpan': '0', 'Importance': 1, 'LastUpdate': '2014-12-11T12:31:00', 'Revised': '', 'Currency': '', 'Unit': '%', 'Ticker': 'THCPIYOY', 'Symbol': 'THCPIYOY'}, {'CalendarId': '4020', 'Date': '2013-05-09T14:00:00', 'Country': 'Mexico', 'Category': 'Inflation Rate', 'Event': 'Inflation Rate YoY', 'Reference': 'Apr 2013', 'ReferenceDate': '2013-04-30T00:00:00', 'Source': 'Instituto Nacional de Estadística y Geografía (INEGI)', 'SourceURL': 'http://www.inegi.org.mx/', 'Actual': '4.65%', 'Previous': '4.25%', 'Forecast': '4.65%', 'TEForecast': '', 'URL': '/mexico/inflation-cpi', 'DateSpan': '0', 'Importance': 2, 'LastUpdate': '2014-12-11T12:31:00', 'Revised': '', 'Currency': '', 'Unit': '%', 'Ticker': 'MXCPYOY', 'Symbol': 'MXCPYOY'}, {'CalendarId': '6307', 'Date': '2013-05-14T08:30:00', 'Country': 'Sweden', 'Category': 'Inflation Rate', 'Event': 'Inflation Rate YoY', 'Reference': 'Apr 2013', 'ReferenceDate': '2013-04-30T00:00:00', 'Source': 'Statistics Sweden', 'SourceURL': 'https://www.scb.se/', 'Actual': '-0.5%', 'Previous': '0.0%', 'Forecast': '-0.1%', 'TEForecast': '', 'URL': '/sweden/inflation-cpi', 'DateSpan': '0', 'Importance': 1, 'LastUpdate': '2014-12-11T12:31:00', 'Revised': '', 'Currency': '', 'Unit': '%', 'Ticker': 'SWCPYOY', 'Symbol': 'SWCPYOY'}, {'CalendarId': '17179', 'Date': '2013-06-03T05:30:00', 'Country': 'Thailand', 'Category': 'Inflation Rate', 'Event': 'Inflation Rate YoY', 'Reference': 'May 2013', 'ReferenceDate': '2013-05-31T00:00:00', 'Source': 'Bureau of Trade and Economic Indices, Ministry of Commerce, Thailand', 'SourceURL': 'http://www.price.moc.go.th', 'Actual': '2.27%', 'Previous': '2.42%', 'Forecast': '2.4%', 'TEForecast': '2.30%', 'URL': '/thailand/inflation-cpi', 'DateSpan': '0', 'Importance': 1, 'LastUpdate': '2014-12-11T12:31:00', 'Revised': '', 'Currency': '', 'Unit': '%', 'Ticker': 'THCPIYOY', 'Symbol': 'THCPIYOY'}, {'CalendarId': '', 'Date': '2024-08-27T02:20:18.9257896+00:00', 'Country': 'Free accounts have access to the following countries: Mexico, New Zealand, Sweden, Thailand. For more, contact us at support@tradingeconomics.com.', 'Category': '', 'Event': '', 'Reference': '', 'ReferenceDate': None, 'Source': '', 'SourceURL': None, 'Actual': '', 'Previous': '', 'Forecast': '', 'TEForecast': '', 'URL': '', 'DateSpan': '', 'Importance': 1, 'LastUpdate': '2024-08-27T02:20:18.9257896+00:00', 'Revised': '', 'Currency': '', 'Unit': '', 'Ticker': '', 'Symbol': ''}]\n"
     ]
    }
   ],
   "source": [
    "import requests\n",
    "import os\n",
    "api_key = os.environ.get(\"TRADING_ECONOMICS_APIKEY\")\n",
    "url = f'https://api.tradingeconomics.com/calendar/indicator/inflation%20rate?c={api_key}'\n",
    "data = requests.get(url).json()\n",
    "print(data)"
   ]
  },
  {
   "cell_type": "code",
   "execution_count": 2,
   "metadata": {},
   "outputs": [
    {
     "data": {
      "text/plain": [
       "'cee6261a11f74fc:zf4oul7wn6y0uy1'"
      ]
     },
     "execution_count": 2,
     "metadata": {},
     "output_type": "execute_result"
    }
   ],
   "source": [
    "api_key\n"
   ]
  },
  {
   "cell_type": "code",
   "execution_count": 9,
   "metadata": {},
   "outputs": [
    {
     "name": "stdout",
     "output_type": "stream",
     "text": [
      "environ({'COMMAND_MODE': 'unix2003', 'CONDA_DEFAULT_ENV': 'base', 'CONDA_EXE': '/opt/anaconda3/bin/conda', 'CONDA_PREFIX': '/opt/anaconda3', 'CONDA_PROMPT_MODIFIER': '(base) ', 'CONDA_PYTHON_EXE': '/opt/anaconda3/bin/python', 'CONDA_SHLVL': '1', 'GSETTINGS_SCHEMA_DIR': '/opt/anaconda3/share/glib-2.0/schemas', 'HOME': '/Users/adebimpeadeleke', 'LOGNAME': 'adebimpeadeleke', 'LaunchInstanceID': '416B5CD7-D6D9-4841-9F5E-2A815D47E4E6', 'MallocNanoZone': '0', 'OLDPWD': '/', 'ORIGINAL_XDG_CURRENT_DESKTOP': 'undefined', 'PATH': '/opt/anaconda3/bin:/opt/anaconda3/condabin:/Library/Frameworks/Python.framework/Versions/2.7/bin:/Library/Frameworks/Python.framework/Versions/3.7/bin:/usr/local/bin:/System/Cryptexes/App/usr/bin:/usr/bin:/bin:/usr/sbin:/sbin:/var/run/com.apple.security.cryptexd/codex.system/bootstrap/usr/local/bin:/var/run/com.apple.security.cryptexd/codex.system/bootstrap/usr/bin:/var/run/com.apple.security.cryptexd/codex.system/bootstrap/usr/appleinternal/bin', 'PWD': '/', 'SECURITYSESSIONID': '186ab', 'SHELL': '/bin/zsh', 'SHLVL': '2', 'SSH_AUTH_SOCK': '/private/tmp/com.apple.launchd.grd6Oqo25w/Listeners', 'TMPDIR': '/var/folders/_0/kyp2mnk90qn2fz6spd6zpns40000gn/T/', 'USER': 'adebimpeadeleke', 'VSCODE_AMD_ENTRYPOINT': 'vs/workbench/api/node/extensionHostProcess', 'VSCODE_CODE_CACHE_PATH': '/Users/adebimpeadeleke/Library/Application Support/Code/CachedData/f1e16e1e6214d7c44d078b1f0607b2388f29d729', 'VSCODE_CRASH_REPORTER_PROCESS_TYPE': 'extensionHost', 'VSCODE_CWD': '/', 'VSCODE_HANDLES_UNCAUGHT_ERRORS': 'true', 'VSCODE_IPC_HOOK': '/Users/adebimpeadeleke/Library/Application Support/Code/1.91-main.sock', 'VSCODE_NLS_CONFIG': '{\"locale\":\"en-us\",\"osLocale\":\"en-ca\",\"availableLanguages\":{},\"_languagePackSupport\":true}', 'VSCODE_PID': '2091', 'XPC_FLAGS': '0x0', 'XPC_SERVICE_NAME': '0', '_': '/opt/anaconda3/bin/python', '__CFBundleIdentifier': 'com.microsoft.VSCode', '__CF_USER_TEXT_ENCODING': '0x1F5:0x0:0x52', 'ELECTRON_RUN_AS_NODE': '1', 'PYTHONUNBUFFERED': '1', 'GSETTINGS_SCHEMA_DIR_CONDA_BACKUP': '', 'PYTHONIOENCODING': 'utf-8', '_CE_CONDA': '', 'CONDA_ROOT': '/opt/anaconda3', '_CE_M': '', 'LC_CTYPE': 'UTF-8', 'PYDEVD_IPYTHON_COMPATIBLE_DEBUGGING': '1', 'PYTHON_FROZEN_MODULES': 'on', 'PYDEVD_USE_FRAME_EVAL': 'NO', 'TERM': 'xterm-color', 'CLICOLOR': '1', 'FORCE_COLOR': '1', 'CLICOLOR_FORCE': '1', 'PAGER': 'cat', 'GIT_PAGER': 'cat', 'MPLBACKEND': 'module://matplotlib_inline.backend_inline'})\n"
     ]
    }
   ],
   "source": [
    "print(os.environ)"
   ]
  }
 ],
 "metadata": {
  "kernelspec": {
   "display_name": "base",
   "language": "python",
   "name": "python3"
  },
  "language_info": {
   "codemirror_mode": {
    "name": "ipython",
    "version": 3
   },
   "file_extension": ".py",
   "mimetype": "text/x-python",
   "name": "python",
   "nbconvert_exporter": "python",
   "pygments_lexer": "ipython3",
   "version": "3.11.7"
  }
 },
 "nbformat": 4,
 "nbformat_minor": 2
}
