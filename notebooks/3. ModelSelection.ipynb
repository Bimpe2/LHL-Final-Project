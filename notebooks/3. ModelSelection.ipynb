{
 "cells": [
  {
   "cell_type": "code",
   "execution_count": 2,
   "metadata": {},
   "outputs": [],
   "source": [
    "# import models and fit\n",
    "import pandas as pd\n",
    "\n",
    "from xgboost import XGBClassifier\n",
    "from sklearn.linear_model import LogisticRegression\n",
    "from sklearn.ensemble import RandomForestClassifier\n",
    "from sklearn.svm import SVC\n",
    "from sklearn.tree import DecisionTreeClassifier\n",
    "from sklearn.linear_model import Ridge, Lasso\n",
    "from sklearn.model_selection import GridSearchCV\n",
    "\n",
    "from sklearn.metrics import accuracy_score, precision_score, recall_score"
   ]
  },
  {
   "cell_type": "code",
   "execution_count": 21,
   "metadata": {},
   "outputs": [
    {
     "data": {
      "text/html": [
       "<div>\n",
       "<style scoped>\n",
       "    .dataframe tbody tr th:only-of-type {\n",
       "        vertical-align: middle;\n",
       "    }\n",
       "\n",
       "    .dataframe tbody tr th {\n",
       "        vertical-align: top;\n",
       "    }\n",
       "\n",
       "    .dataframe thead th {\n",
       "        text-align: right;\n",
       "    }\n",
       "</style>\n",
       "<table border=\"1\" class=\"dataframe\">\n",
       "  <thead>\n",
       "    <tr style=\"text-align: right;\">\n",
       "      <th></th>\n",
       "      <th>danceability</th>\n",
       "      <th>energy</th>\n",
       "      <th>key</th>\n",
       "      <th>loudness</th>\n",
       "      <th>mode</th>\n",
       "      <th>speechiness</th>\n",
       "      <th>acousticness</th>\n",
       "      <th>instrumentalness</th>\n",
       "      <th>liveness</th>\n",
       "      <th>valence</th>\n",
       "      <th>tempo</th>\n",
       "      <th>duration_ms</th>\n",
       "    </tr>\n",
       "  </thead>\n",
       "  <tbody>\n",
       "    <tr>\n",
       "      <th>count</th>\n",
       "      <td>2.626600e+04</td>\n",
       "      <td>2.626600e+04</td>\n",
       "      <td>2.626600e+04</td>\n",
       "      <td>2.626600e+04</td>\n",
       "      <td>2.626600e+04</td>\n",
       "      <td>2.626600e+04</td>\n",
       "      <td>2.626600e+04</td>\n",
       "      <td>2.626600e+04</td>\n",
       "      <td>2.626600e+04</td>\n",
       "      <td>2.626600e+04</td>\n",
       "      <td>2.626600e+04</td>\n",
       "      <td>2.626600e+04</td>\n",
       "    </tr>\n",
       "    <tr>\n",
       "      <th>mean</th>\n",
       "      <td>9.955065e-17</td>\n",
       "      <td>-5.166895e-16</td>\n",
       "      <td>3.489683e-17</td>\n",
       "      <td>-3.246217e-17</td>\n",
       "      <td>5.302154e-17</td>\n",
       "      <td>1.527751e-16</td>\n",
       "      <td>8.034386e-17</td>\n",
       "      <td>-7.236358e-18</td>\n",
       "      <td>-2.166850e-16</td>\n",
       "      <td>-4.217377e-16</td>\n",
       "      <td>4.450022e-16</td>\n",
       "      <td>-9.109696e-17</td>\n",
       "    </tr>\n",
       "    <tr>\n",
       "      <th>std</th>\n",
       "      <td>1.000019e+00</td>\n",
       "      <td>1.000019e+00</td>\n",
       "      <td>1.000019e+00</td>\n",
       "      <td>1.000019e+00</td>\n",
       "      <td>1.000019e+00</td>\n",
       "      <td>1.000019e+00</td>\n",
       "      <td>1.000019e+00</td>\n",
       "      <td>1.000019e+00</td>\n",
       "      <td>1.000019e+00</td>\n",
       "      <td>1.000019e+00</td>\n",
       "      <td>1.000019e+00</td>\n",
       "      <td>1.000019e+00</td>\n",
       "    </tr>\n",
       "    <tr>\n",
       "      <th>min</th>\n",
       "      <td>-4.505887e+00</td>\n",
       "      <td>-3.844018e+00</td>\n",
       "      <td>-1.488402e+00</td>\n",
       "      <td>-1.330553e+01</td>\n",
       "      <td>-1.147447e+00</td>\n",
       "      <td>-1.056623e+00</td>\n",
       "      <td>-8.004158e-01</td>\n",
       "      <td>-3.775346e-01</td>\n",
       "      <td>-1.227342e+00</td>\n",
       "      <td>-2.183370e+00</td>\n",
       "      <td>-4.490573e+00</td>\n",
       "      <td>-3.691340e+00</td>\n",
       "    </tr>\n",
       "    <tr>\n",
       "      <th>25%</th>\n",
       "      <td>-6.307899e-01</td>\n",
       "      <td>-6.473257e-01</td>\n",
       "      <td>-9.338486e-01</td>\n",
       "      <td>-4.884452e-01</td>\n",
       "      <td>-1.147447e+00</td>\n",
       "      <td>-6.528069e-01</td>\n",
       "      <td>-7.315010e-01</td>\n",
       "      <td>-3.775346e-01</td>\n",
       "      <td>-6.283951e-01</td>\n",
       "      <td>-7.681144e-01</td>\n",
       "      <td>-7.762985e-01</td>\n",
       "      <td>-6.363735e-01</td>\n",
       "    </tr>\n",
       "    <tr>\n",
       "      <th>50%</th>\n",
       "      <td>1.194509e-01</td>\n",
       "      <td>1.245226e-01</td>\n",
       "      <td>1.752589e-01</td>\n",
       "      <td>1.854683e-01</td>\n",
       "      <td>8.715000e-01</td>\n",
       "      <td>-4.385574e-01</td>\n",
       "      <td>-4.340791e-01</td>\n",
       "      <td>-3.774654e-01</td>\n",
       "      <td>-4.058923e-01</td>\n",
       "      <td>3.843458e-03</td>\n",
       "      <td>4.243293e-02</td>\n",
       "      <td>-1.635064e-01</td>\n",
       "    </tr>\n",
       "    <tr>\n",
       "      <th>75%</th>\n",
       "      <td>7.303121e-01</td>\n",
       "      <td>7.805936e-01</td>\n",
       "      <td>1.007090e+00</td>\n",
       "      <td>6.918454e-01</td>\n",
       "      <td>8.715000e-01</td>\n",
       "      <td>2.466464e-01</td>\n",
       "      <td>3.647889e-01</td>\n",
       "      <td>-3.558461e-01</td>\n",
       "      <td>3.702802e-01</td>\n",
       "      <td>7.843786e-01</td>\n",
       "      <td>4.865662e-01</td>\n",
       "      <td>4.609262e-01</td>\n",
       "    </tr>\n",
       "    <tr>\n",
       "      <th>max</th>\n",
       "      <td>2.260046e+00</td>\n",
       "      <td>1.668219e+00</td>\n",
       "      <td>1.561643e+00</td>\n",
       "      <td>2.677165e+00</td>\n",
       "      <td>8.715000e-01</td>\n",
       "      <td>7.602220e+00</td>\n",
       "      <td>3.706251e+00</td>\n",
       "      <td>4.060626e+00</td>\n",
       "      <td>5.214891e+00</td>\n",
       "      <td>2.066686e+00</td>\n",
       "      <td>4.406957e+00</td>\n",
       "      <td>4.856351e+00</td>\n",
       "    </tr>\n",
       "  </tbody>\n",
       "</table>\n",
       "</div>"
      ],
      "text/plain": [
       "       danceability        energy  ...         tempo   duration_ms\n",
       "count  2.626600e+04  2.626600e+04  ...  2.626600e+04  2.626600e+04\n",
       "mean   9.955065e-17 -5.166895e-16  ...  4.450022e-16 -9.109696e-17\n",
       "std    1.000019e+00  1.000019e+00  ...  1.000019e+00  1.000019e+00\n",
       "min   -4.505887e+00 -3.844018e+00  ... -4.490573e+00 -3.691340e+00\n",
       "25%   -6.307899e-01 -6.473257e-01  ... -7.762985e-01 -6.363735e-01\n",
       "50%    1.194509e-01  1.245226e-01  ...  4.243293e-02 -1.635064e-01\n",
       "75%    7.303121e-01  7.805936e-01  ...  4.865662e-01  4.609262e-01\n",
       "max    2.260046e+00  1.668219e+00  ...  4.406957e+00  4.856351e+00\n",
       "\n",
       "[8 rows x 12 columns]"
      ]
     },
     "execution_count": 21,
     "metadata": {},
     "output_type": "execute_result"
    }
   ],
   "source": [
    "# Load data\n",
    "X_train_scaled = pd.read_csv('../data/processed/X_train_scaled.csv')\n",
    "X_test_scaled = pd.read_csv('../data/processed/X_test_scaled.csv')\n",
    "y_train = pd.read_csv('../data/processed/y_train.csv')\n",
    "y_test = pd.read_csv('../data/processed/y_test.csv')\n",
    "\n",
    "X_train_scaled.describe()"
   ]
  },
  {
   "cell_type": "code",
   "execution_count": 12,
   "metadata": {},
   "outputs": [],
   "source": [
    "# Ridge Regression (L2)\n",
    "ridge_model = Ridge(alpha=1.0)  # alpha is the regularization strength\n",
    "ridge_model.fit(X_train_scaled, y_train)\n",
    "\n",
    "y_train_ridge = ridge_model.predict(X_train_scaled)\n",
    "y_test_ridge = ridge_model.predict(X_test_scaled)\n",
    "\n",
    "# Lasso Regression (L1)\n",
    "lasso_model = Lasso(alpha=1.0)\n",
    "lasso_model.fit(X_train_scaled, y_train)\n",
    "\n",
    "y_train_lasso = lasso_model.predict(X_train_scaled)\n",
    "y_test_lasso = lasso_model.predict(X_test_scaled)"
   ]
  },
  {
   "cell_type": "code",
   "execution_count": 14,
   "metadata": {},
   "outputs": [
    {
     "name": "stdout",
     "output_type": "stream",
     "text": [
      "Train MSE: \t 0.16756935391332417\n",
      "Test MSE: \t 0.16429258534304636\n",
      "Train R2: \t 0.8359779862515065\n",
      "Test R2: \t 0.8567334823029755\n"
     ]
    }
   ],
   "source": [
    "train_mse_ridge = accuracy_score(y_train, y_train_ridge)\n",
    "train_r2_ridge = precision_score(y_train, y_train_ridge)\n",
    "\n",
    "mse_ridge = accuracy_score(y_test, y_test_ridge)\n",
    "r2_ridge = precision_score(y_test, y_test_ridge)\n",
    "\n",
    "ridge_metrics = {'MSE':mse_ridge, 'R2':r2_ridge}\n",
    "\n",
    "print(f'Train MSE: \\t {train_mse_ridge}')\n",
    "print(f'Test MSE: \\t {mse_ridge}')\n",
    "print(f'Train R2: \\t {train_r2_ridge}')\n",
    "print(f'Test R2: \\t {r2_ridge}')"
   ]
  },
  {
   "cell_type": "code",
   "execution_count": 5,
   "metadata": {},
   "outputs": [
    {
     "name": "stdout",
     "output_type": "stream",
     "text": [
      "Train MSE: \t 0.1621316220371805\n",
      "Test MSE: \t 0.14469695049134182\n",
      "Train R2: \t 0.841300604688114\n",
      "Test R2: \t 0.8738212794266512\n"
     ]
    }
   ],
   "source": [
    "#Logistic Regression\n",
    "LR_model = LinearRegression()\n",
    "LR_model.fit(X_train_scaled, y_train)\n",
    "\n",
    "y_train_LR = LR_model.predict(X_train_scaled)\n",
    "y_test_LR = LR_model.predict(X_test_scaled)\n",
    "\n",
    "train_mse_LR = accuracy_score(y_train, y_train_LR)\n",
    "train_r2_LR = precision_score(y_train, y_train_LR)\n",
    "\n",
    "mse_LR = accuracy_score(y_test, y_test_LR)\n",
    "r2_LR = precision_score(y_test, y_test_LR)\n",
    "\n",
    "LR_metrics = {'MSE':mse_LR, 'R2':r2_LR}\n",
    "\n",
    "print(f'Train MSE: \\t {train_mse_LR}')\n",
    "print(f'Test MSE: \\t {mse_LR}')\n",
    "print(f'Train R2: \\t {train_r2_LR}')\n",
    "print(f'Test R2: \\t {r2_LR}')\n",
    "\n"
   ]
  },
  {
   "cell_type": "code",
   "execution_count": 25,
   "metadata": {},
   "outputs": [
    {
     "name": "stdout",
     "output_type": "stream",
     "text": [
      "Train accuracy: \t 0.8022157922789919\n",
      "Test accuracy: \t 0.5545911375057103\n",
      "Train precision: \t 0.8031288225784352\n",
      "Test precision: \t 0.5525002839747288\n",
      "Train recall: \t 0.8020504499967954\n",
      "Test recall: \t 0.5535543739210276\n"
     ]
    }
   ],
   "source": [
    "# XGBoots\n",
    "xgb_model = XGBClassifier(random_state=42)\n",
    "xgb_model.fit(X_train_scaled, y_train)\n",
    "\n",
    "y_train_xgb = xgb_model.predict(X_train_scaled)\n",
    "y_test_xgb = xgb_model.predict(X_test_scaled)\n",
    "\n",
    "train_accuracy_xgb = accuracy_score(y_train, y_train_xgb)\n",
    "train_precison_xgb = precision_score(y_train, y_train_xgb, average='macro')\n",
    "train_recall_xgb = recall_score(y_train, y_train_xgb, average='macro')\n",
    "\n",
    "accuracy_xgb = accuracy_score(y_test, y_test_xgb)\n",
    "precison_xgb = precision_score(y_test, y_test_xgb, average='macro')\n",
    "recall_xgb = recall_score(y_test, y_test_xgb, average='macro')\n",
    "\n",
    "XGB_metrics = {'accuracy':accuracy_xgb, 'precision':precison_xgb, 'recall':recall_xgb}\n",
    "\n",
    "print(f'Train accuracy: \\t {train_accuracy_xgb}')\n",
    "print(f'Test accuracy: \\t {accuracy_xgb}')\n",
    "print(f'Train precision: \\t {train_precison_xgb}')\n",
    "print(f'Test precision: \\t {precison_xgb}')\n",
    "print(f'Train recall: \\t {train_recall_xgb}')\n",
    "print(f'Test recall: \\t {recall_xgb}')"
   ]
  },
  {
   "cell_type": "code",
   "execution_count": 26,
   "metadata": {},
   "outputs": [
    {
     "name": "stdout",
     "output_type": "stream",
     "text": [
      "Train MSE: \t 0.9390086042792964\n",
      "Test MSE: \t 0.43535861123800823\n",
      "Train R2: \t 0.9405669715549807\n",
      "Test R2: \t 0.4377462249914943\n"
     ]
    }
   ],
   "source": [
    "# Decision Tree\n",
    "tree_model = DecisionTreeClassifier(random_state=42)\n",
    "tree_model.fit(X_train_scaled, y_train)\n",
    "\n",
    "y_train_tree = tree_model.predict(X_train_scaled)\n",
    "y_test_tree = tree_model.predict(X_test_scaled)\n",
    "\n",
    "train_accuracy_tree = accuracy_score(y_train, y_train_tree)\n",
    "train_precision_tree = precision_score(y_train, y_train_tree, average='weighted')\n",
    "\n",
    "accuracy_tree = accuracy_score(y_test, y_test_tree)\n",
    "precision_tree = precision_score(y_test, y_test_tree, average='weighted')\n",
    "\n",
    "DTree_metrics = {'MSE':accuracy_tree, 'R2':precision_tree}\n",
    "\n",
    "print(f'Train MSE: \\t {train_accuracy_tree}')\n",
    "print(f'Test MSE: \\t {accuracy_tree}')\n",
    "print(f'Train R2: \\t {train_precision_tree}')\n",
    "print(f'Test R2: \\t {precision_tree}')"
   ]
  },
  {
   "cell_type": "code",
   "execution_count": 23,
   "metadata": {},
   "outputs": [
    {
     "name": "stderr",
     "output_type": "stream",
     "text": [
      "/var/folders/_0/kyp2mnk90qn2fz6spd6zpns40000gn/T/ipykernel_40038/3807855257.py:3: DataConversionWarning: A column-vector y was passed when a 1d array was expected. Please change the shape of y to (n_samples,), for example using ravel().\n",
      "  forest_model.fit(X_train_scaled, y_train)\n"
     ]
    },
    {
     "name": "stdout",
     "output_type": "stream",
     "text": [
      "Train MSE: \t 0.9390086042792964\n",
      "Test MSE: \t 0.5513933302878027\n",
      "Train R2: \t 0.9392078085242707\n",
      "Test R2: \t 0.5445726133076186\n"
     ]
    }
   ],
   "source": [
    "# Random Forest\n",
    "forest_model = RandomForestClassifier(random_state=42)\n",
    "forest_model.fit(X_train_scaled, y_train)\n",
    "\n",
    "y_train_forest = forest_model.predict(X_train_scaled)\n",
    "y_test_forest = forest_model.predict(X_test_scaled)\n",
    "\n",
    "train_accuracy_forest = accuracy_score(y_train, y_train_forest)\n",
    "train_precision_forest = precision_score(y_train, y_train_forest, average='macro')\n",
    "\n",
    "accuracy_forest = accuracy_score(y_test, y_test_forest)\n",
    "precision_forest = precision_score(y_test, y_test_forest, average='macro')\n",
    "\n",
    "Forest_metrics = {'MSE':accuracy_forest, 'R2':precision_forest}\n",
    "\n",
    "print(f'Train MSE: \\t {train_accuracy_forest}')\n",
    "print(f'Test MSE: \\t {accuracy_forest}')\n",
    "print(f'Train R2: \\t {train_precision_forest}')\n",
    "print(f'Test R2: \\t {precision_forest}')"
   ]
  },
  {
   "cell_type": "code",
   "execution_count": 24,
   "metadata": {},
   "outputs": [
    {
     "name": "stderr",
     "output_type": "stream",
     "text": [
      "/var/folders/_0/kyp2mnk90qn2fz6spd6zpns40000gn/T/ipykernel_40038/2759453485.py:3: DataConversionWarning: A column-vector y was passed when a 1d array was expected. Please change the shape of y to (n_samples,), for example using ravel().\n",
      "  forest_model.fit(X_train_scaled, y_train)\n"
     ]
    },
    {
     "name": "stdout",
     "output_type": "stream",
     "text": [
      "Train MSE: \t 0.9390086042792964\n",
      "Test MSE: \t 0.5513933302878027\n",
      "Train R2: \t 0.9389949379060863\n",
      "Test R2: \t 0.5450224124541274\n"
     ]
    }
   ],
   "source": [
    "# Random Forest\n",
    "forest_model = RandomForestClassifier(random_state=42)\n",
    "forest_model.fit(X_train_scaled, y_train)\n",
    "\n",
    "y_train_forest = forest_model.predict(X_train_scaled)\n",
    "y_test_forest = forest_model.predict(X_test_scaled)\n",
    "\n",
    "train_accuracy_forest = accuracy_score(y_train, y_train_forest)\n",
    "train_precision_forest = precision_score(y_train, y_train_forest, average='weighted')\n",
    "\n",
    "accuracy_forest = accuracy_score(y_test, y_test_forest)\n",
    "precision_forest = precision_score(y_test, y_test_forest, average='weighted')\n",
    "\n",
    "Forest_metrics = {'MSE':accuracy_forest, 'R2':precision_forest}\n",
    "\n",
    "print(f'Train MSE: \\t {train_accuracy_forest}')\n",
    "print(f'Test MSE: \\t {accuracy_forest}')\n",
    "print(f'Train R2: \\t {train_precision_forest}')\n",
    "print(f'Test R2: \\t {precision_forest}')"
   ]
  },
  {
   "cell_type": "code",
   "execution_count": 9,
   "metadata": {},
   "outputs": [
    {
     "name": "stdout",
     "output_type": "stream",
     "text": [
      "Train MSE: \t 0.15843753400973856\n",
      "Test MSE: \t 0.2779567950484619\n",
      "Train R2: \t 1.0\n",
      "Test R2: \t 0.7576159507523135\n"
     ]
    },
    {
     "name": "stderr",
     "output_type": "stream",
     "text": [
      "/opt/anaconda3/lib/python3.11/site-packages/sklearn/utils/validation.py:1143: DataConversionWarning: A column-vector y was passed when a 1d array was expected. Please change the shape of y to (n_samples, ), for example using ravel().\n",
      "  y = column_or_1d(y, warn=True)\n"
     ]
    }
   ],
   "source": [
    "# SVR\n",
    "svr_model = SVR(kernel='rbf')\n",
    "svr_model.fit(X_train_scaled, y_train)\n",
    "\n",
    "y_train_svr = svr_model.predict(X_train_scaled)\n",
    "y_test_svr = svr_model.predict(X_test_scaled)\n",
    "\n",
    "train_mse_svr = accuracy_score(y_train, y_train_svr)\n",
    "train_r2_svr = precision_score(y_train, y_train_tree)\n",
    "\n",
    "mse_svr = accuracy_score(y_test, y_test_svr)\n",
    "r2_svr = precision_score(y_test, y_test_svr)\n",
    "\n",
    "SVR_metrics = {'MSE':mse_svr, 'R2':r2_svr}\n",
    "\n",
    "print(f'Train MSE: \\t {train_mse_svr}')\n",
    "print(f'Test MSE: \\t {mse_svr}')\n",
    "print(f'Train R2: \\t {train_r2_svr}')\n",
    "print(f'Test R2: \\t {r2_svr}')"
   ]
  },
  {
   "cell_type": "markdown",
   "metadata": {},
   "source": [
    "#### Cross-Validation for Regularization Parameter Tuning"
   ]
  },
  {
   "cell_type": "code",
   "execution_count": 19,
   "metadata": {},
   "outputs": [
    {
     "name": "stdout",
     "output_type": "stream",
     "text": [
      "Best alpha: {'alpha': 10}\n",
      "Best Ridge Train R²: 0.8301067235378031\n",
      "Best Ridge Test R²: 0.8452075328700599\n"
     ]
    }
   ],
   "source": [
    "# Define a grid of alpha values for Ridge\n",
    "param_grid = {'alpha': [0.01, 0.1, 1.0, 10, 100]}\n",
    "ridge_cv = GridSearchCV(Ridge(), param_grid, cv=5)\n",
    "ridge_cv.fit(X_train_scaled, y_train)\n",
    "\n",
    "# Best alpha\n",
    "print(\"Best alpha:\", ridge_cv.best_params_)\n",
    "\n",
    "# Evaluate the best model\n",
    "best_ridge_model = ridge_cv.best_estimator_\n",
    "print(\"Best Ridge Train R²:\", best_ridge_model.score(X_train_scaled, y_train))\n",
    "print(\"Best Ridge Test R²:\", best_ridge_model.score(X_test_scaled, y_test))"
   ]
  }
 ],
 "metadata": {
  "kernelspec": {
   "display_name": "base",
   "language": "python",
   "name": "python3"
  },
  "language_info": {
   "codemirror_mode": {
    "name": "ipython",
    "version": 3
   },
   "file_extension": ".py",
   "mimetype": "text/x-python",
   "name": "python",
   "nbconvert_exporter": "python",
   "pygments_lexer": "ipython3",
   "version": "3.11.7"
  }
 },
 "nbformat": 4,
 "nbformat_minor": 2
}
