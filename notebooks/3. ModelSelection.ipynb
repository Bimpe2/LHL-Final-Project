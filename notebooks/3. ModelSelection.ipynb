{
 "cells": [
  {
   "cell_type": "code",
   "execution_count": 15,
   "metadata": {},
   "outputs": [],
   "source": [
    "# import models and fit\n",
    "import pandas as pd\n",
    "\n",
    "from xgboost import XGBRegressor\n",
    "from sklearn.linear_model import LinearRegression\n",
    "from sklearn.ensemble import RandomForestRegressor\n",
    "from sklearn.svm import SVR\n",
    "from sklearn.tree import DecisionTreeRegressor\n",
    "from sklearn.linear_model import Ridge, Lasso\n",
    "from sklearn.model_selection import GridSearchCV\n",
    "\n",
    "from sklearn.metrics import mean_squared_error, r2_score"
   ]
  },
  {
   "cell_type": "code",
   "execution_count": 4,
   "metadata": {},
   "outputs": [
    {
     "data": {
      "text/html": [
       "<div>\n",
       "<style scoped>\n",
       "    .dataframe tbody tr th:only-of-type {\n",
       "        vertical-align: middle;\n",
       "    }\n",
       "\n",
       "    .dataframe tbody tr th {\n",
       "        vertical-align: top;\n",
       "    }\n",
       "\n",
       "    .dataframe thead th {\n",
       "        text-align: right;\n",
       "    }\n",
       "</style>\n",
       "<table border=\"1\" class=\"dataframe\">\n",
       "  <thead>\n",
       "    <tr style=\"text-align: right;\">\n",
       "      <th></th>\n",
       "      <th>GDP_per_capita</th>\n",
       "      <th>social_support</th>\n",
       "      <th>healthy_life_expectancy</th>\n",
       "      <th>freedom_of_choice</th>\n",
       "      <th>generosity</th>\n",
       "      <th>costofliving_index</th>\n",
       "      <th>rent_index</th>\n",
       "      <th>col_plus_rent_index</th>\n",
       "      <th>groceries_index</th>\n",
       "      <th>restaurant_price_index</th>\n",
       "      <th>local_purchase_power_index</th>\n",
       "    </tr>\n",
       "  </thead>\n",
       "  <tbody>\n",
       "    <tr>\n",
       "      <th>count</th>\n",
       "      <td>8.500000e+01</td>\n",
       "      <td>8.500000e+01</td>\n",
       "      <td>8.500000e+01</td>\n",
       "      <td>8.500000e+01</td>\n",
       "      <td>8.500000e+01</td>\n",
       "      <td>8.500000e+01</td>\n",
       "      <td>8.500000e+01</td>\n",
       "      <td>8.500000e+01</td>\n",
       "      <td>8.500000e+01</td>\n",
       "      <td>8.500000e+01</td>\n",
       "      <td>8.500000e+01</td>\n",
       "    </tr>\n",
       "    <tr>\n",
       "      <th>mean</th>\n",
       "      <td>1.259124e-15</td>\n",
       "      <td>-9.717717e-16</td>\n",
       "      <td>-2.847396e-15</td>\n",
       "      <td>-1.577823e-15</td>\n",
       "      <td>-4.440892e-17</td>\n",
       "      <td>-3.683328e-16</td>\n",
       "      <td>2.442491e-16</td>\n",
       "      <td>2.429429e-16</td>\n",
       "      <td>1.149407e-16</td>\n",
       "      <td>-2.220446e-16</td>\n",
       "      <td>-3.134747e-16</td>\n",
       "    </tr>\n",
       "    <tr>\n",
       "      <th>std</th>\n",
       "      <td>1.005935e+00</td>\n",
       "      <td>1.005935e+00</td>\n",
       "      <td>1.005935e+00</td>\n",
       "      <td>1.005935e+00</td>\n",
       "      <td>1.005935e+00</td>\n",
       "      <td>1.005935e+00</td>\n",
       "      <td>1.005935e+00</td>\n",
       "      <td>1.005935e+00</td>\n",
       "      <td>1.005935e+00</td>\n",
       "      <td>1.005935e+00</td>\n",
       "      <td>1.005935e+00</td>\n",
       "    </tr>\n",
       "    <tr>\n",
       "      <th>min</th>\n",
       "      <td>-4.155727e+00</td>\n",
       "      <td>-2.988632e+00</td>\n",
       "      <td>-2.701178e+00</td>\n",
       "      <td>-3.311316e+00</td>\n",
       "      <td>-2.061494e+00</td>\n",
       "      <td>-1.533774e+00</td>\n",
       "      <td>-1.206220e+00</td>\n",
       "      <td>-1.450991e+00</td>\n",
       "      <td>-1.569581e+00</td>\n",
       "      <td>-1.265004e+00</td>\n",
       "      <td>-1.407434e+00</td>\n",
       "    </tr>\n",
       "    <tr>\n",
       "      <th>25%</th>\n",
       "      <td>-5.445485e-01</td>\n",
       "      <td>-3.969520e-01</td>\n",
       "      <td>-4.749214e-01</td>\n",
       "      <td>-4.488590e-01</td>\n",
       "      <td>-7.322077e-01</td>\n",
       "      <td>-8.087431e-01</td>\n",
       "      <td>-6.528445e-01</td>\n",
       "      <td>-7.895353e-01</td>\n",
       "      <td>-7.164162e-01</td>\n",
       "      <td>-8.260346e-01</td>\n",
       "      <td>-7.707839e-01</td>\n",
       "    </tr>\n",
       "    <tr>\n",
       "      <th>50%</th>\n",
       "      <td>4.419892e-02</td>\n",
       "      <td>3.687715e-01</td>\n",
       "      <td>9.178268e-02</td>\n",
       "      <td>7.069645e-02</td>\n",
       "      <td>-1.272631e-01</td>\n",
       "      <td>-2.505337e-01</td>\n",
       "      <td>-2.990470e-01</td>\n",
       "      <td>-2.681527e-01</td>\n",
       "      <td>-2.384020e-01</td>\n",
       "      <td>-1.370187e-01</td>\n",
       "      <td>-3.490030e-01</td>\n",
       "    </tr>\n",
       "    <tr>\n",
       "      <th>75%</th>\n",
       "      <td>7.835336e-01</td>\n",
       "      <td>7.319994e-01</td>\n",
       "      <td>7.260109e-01</td>\n",
       "      <td>7.765077e-01</td>\n",
       "      <td>8.677115e-01</td>\n",
       "      <td>6.156532e-01</td>\n",
       "      <td>3.178308e-01</td>\n",
       "      <td>4.088665e-01</td>\n",
       "      <td>3.545776e-01</td>\n",
       "      <td>4.408656e-01</td>\n",
       "      <td>5.900563e-01</td>\n",
       "    </tr>\n",
       "    <tr>\n",
       "      <th>max</th>\n",
       "      <td>1.802669e+00</td>\n",
       "      <td>1.458455e+00</td>\n",
       "      <td>1.621045e+00</td>\n",
       "      <td>1.433304e+00</td>\n",
       "      <td>2.260676e+00</td>\n",
       "      <td>3.746758e+00</td>\n",
       "      <td>4.672262e+00</td>\n",
       "      <td>3.513817e+00</td>\n",
       "      <td>3.972963e+00</td>\n",
       "      <td>3.413636e+00</td>\n",
       "      <td>3.155227e+00</td>\n",
       "    </tr>\n",
       "  </tbody>\n",
       "</table>\n",
       "</div>"
      ],
      "text/plain": [
       "       GDP_per_capita  social_support  healthy_life_expectancy  \\\n",
       "count    8.500000e+01    8.500000e+01             8.500000e+01   \n",
       "mean     1.259124e-15   -9.717717e-16            -2.847396e-15   \n",
       "std      1.005935e+00    1.005935e+00             1.005935e+00   \n",
       "min     -4.155727e+00   -2.988632e+00            -2.701178e+00   \n",
       "25%     -5.445485e-01   -3.969520e-01            -4.749214e-01   \n",
       "50%      4.419892e-02    3.687715e-01             9.178268e-02   \n",
       "75%      7.835336e-01    7.319994e-01             7.260109e-01   \n",
       "max      1.802669e+00    1.458455e+00             1.621045e+00   \n",
       "\n",
       "       freedom_of_choice    generosity  costofliving_index    rent_index  \\\n",
       "count       8.500000e+01  8.500000e+01        8.500000e+01  8.500000e+01   \n",
       "mean       -1.577823e-15 -4.440892e-17       -3.683328e-16  2.442491e-16   \n",
       "std         1.005935e+00  1.005935e+00        1.005935e+00  1.005935e+00   \n",
       "min        -3.311316e+00 -2.061494e+00       -1.533774e+00 -1.206220e+00   \n",
       "25%        -4.488590e-01 -7.322077e-01       -8.087431e-01 -6.528445e-01   \n",
       "50%         7.069645e-02 -1.272631e-01       -2.505337e-01 -2.990470e-01   \n",
       "75%         7.765077e-01  8.677115e-01        6.156532e-01  3.178308e-01   \n",
       "max         1.433304e+00  2.260676e+00        3.746758e+00  4.672262e+00   \n",
       "\n",
       "       col_plus_rent_index  groceries_index  restaurant_price_index  \\\n",
       "count         8.500000e+01     8.500000e+01            8.500000e+01   \n",
       "mean          2.429429e-16     1.149407e-16           -2.220446e-16   \n",
       "std           1.005935e+00     1.005935e+00            1.005935e+00   \n",
       "min          -1.450991e+00    -1.569581e+00           -1.265004e+00   \n",
       "25%          -7.895353e-01    -7.164162e-01           -8.260346e-01   \n",
       "50%          -2.681527e-01    -2.384020e-01           -1.370187e-01   \n",
       "75%           4.088665e-01     3.545776e-01            4.408656e-01   \n",
       "max           3.513817e+00     3.972963e+00            3.413636e+00   \n",
       "\n",
       "       local_purchase_power_index  \n",
       "count                8.500000e+01  \n",
       "mean                -3.134747e-16  \n",
       "std                  1.005935e+00  \n",
       "min                 -1.407434e+00  \n",
       "25%                 -7.707839e-01  \n",
       "50%                 -3.490030e-01  \n",
       "75%                  5.900563e-01  \n",
       "max                  3.155227e+00  "
      ]
     },
     "execution_count": 4,
     "metadata": {},
     "output_type": "execute_result"
    }
   ],
   "source": [
    "# Load data\n",
    "X_train_scaled = pd.read_csv('../data/processed/X_train_scaled.csv')\n",
    "X_test_scaled = pd.read_csv('../data/processed/X_test_scaled.csv')\n",
    "y_train = pd.read_csv('../data/processed/y_train.csv')\n",
    "y_test = pd.read_csv('../data/processed/y_test.csv')\n",
    "\n",
    "X_train_scaled.describe()"
   ]
  },
  {
   "cell_type": "code",
   "execution_count": 12,
   "metadata": {},
   "outputs": [],
   "source": [
    "# Ridge Regression (L2)\n",
    "ridge_model = Ridge(alpha=1.0)  # alpha is the regularization strength\n",
    "ridge_model.fit(X_train_scaled, y_train)\n",
    "\n",
    "y_train_ridge = ridge_model.predict(X_train_scaled)\n",
    "y_test_ridge = ridge_model.predict(X_test_scaled)\n",
    "\n",
    "# Lasso Regression (L1)\n",
    "lasso_model = Lasso(alpha=1.0)\n",
    "lasso_model.fit(X_train_scaled, y_train)\n",
    "\n",
    "y_train_lasso = lasso_model.predict(X_train_scaled)\n",
    "y_test_lasso = lasso_model.predict(X_test_scaled)"
   ]
  },
  {
   "cell_type": "code",
   "execution_count": 14,
   "metadata": {},
   "outputs": [
    {
     "name": "stdout",
     "output_type": "stream",
     "text": [
      "Train MSE: \t 0.16756935391332417\n",
      "Test MSE: \t 0.16429258534304636\n",
      "Train R2: \t 0.8359779862515065\n",
      "Test R2: \t 0.8567334823029755\n"
     ]
    }
   ],
   "source": [
    "train_mse_ridge = mean_squared_error(y_train, y_train_ridge)\n",
    "train_r2_ridge = r2_score(y_train, y_train_ridge)\n",
    "\n",
    "mse_ridge = mean_squared_error(y_test, y_test_ridge)\n",
    "r2_ridge = r2_score(y_test, y_test_ridge)\n",
    "\n",
    "ridge_metrics = {'MSE':mse_ridge, 'R2':r2_ridge}\n",
    "\n",
    "print(f'Train MSE: \\t {train_mse_ridge}')\n",
    "print(f'Test MSE: \\t {mse_ridge}')\n",
    "print(f'Train R2: \\t {train_r2_ridge}')\n",
    "print(f'Test R2: \\t {r2_ridge}')"
   ]
  },
  {
   "cell_type": "code",
   "execution_count": 5,
   "metadata": {},
   "outputs": [
    {
     "name": "stdout",
     "output_type": "stream",
     "text": [
      "Train MSE: \t 0.1621316220371805\n",
      "Test MSE: \t 0.14469695049134182\n",
      "Train R2: \t 0.841300604688114\n",
      "Test R2: \t 0.8738212794266512\n"
     ]
    }
   ],
   "source": [
    "#Linear Regression\n",
    "LR_model = LinearRegression()\n",
    "LR_model.fit(X_train_scaled, y_train)\n",
    "\n",
    "y_train_LR = LR_model.predict(X_train_scaled)\n",
    "y_test_LR = LR_model.predict(X_test_scaled)\n",
    "\n",
    "train_mse_LR = mean_squared_error(y_train, y_train_LR)\n",
    "train_r2_LR = r2_score(y_train, y_train_LR)\n",
    "\n",
    "mse_LR = mean_squared_error(y_test, y_test_LR)\n",
    "r2_LR = r2_score(y_test, y_test_LR)\n",
    "\n",
    "LR_metrics = {'MSE':mse_LR, 'R2':r2_LR}\n",
    "\n",
    "print(f'Train MSE: \\t {train_mse_LR}')\n",
    "print(f'Test MSE: \\t {mse_LR}')\n",
    "print(f'Train R2: \\t {train_r2_LR}')\n",
    "print(f'Test R2: \\t {r2_LR}')\n",
    "\n"
   ]
  },
  {
   "cell_type": "code",
   "execution_count": 6,
   "metadata": {},
   "outputs": [
    {
     "name": "stdout",
     "output_type": "stream",
     "text": [
      "Train MSE: \t 4.918704321774255e-07\n",
      "Test MSE: \t 0.2588026276067454\n",
      "Train R2: \t 0.9999995185421624\n",
      "Test R2: \t 0.7743187792033396\n"
     ]
    }
   ],
   "source": [
    "# XGBoots\n",
    "xgb_model = XGBRegressor(random_state=42)\n",
    "xgb_model.fit(X_train_scaled, y_train)\n",
    "\n",
    "y_train_xgb = xgb_model.predict(X_train_scaled)\n",
    "y_test_xgb = xgb_model.predict(X_test_scaled)\n",
    "\n",
    "train_mse_xgb = mean_squared_error(y_train, y_train_xgb)\n",
    "train_r2_xgb = r2_score(y_train, y_train_xgb)\n",
    "\n",
    "mse_xgb = mean_squared_error(y_test, y_test_xgb)\n",
    "r2_xgb = r2_score(y_test, y_test_xgb)\n",
    "\n",
    "XGB_metrics = {'MSE':mse_xgb, 'R2':r2_xgb}\n",
    "\n",
    "print(f'Train MSE: \\t {train_mse_xgb}')\n",
    "print(f'Test MSE: \\t {mse_xgb}')\n",
    "print(f'Train R2: \\t {train_r2_xgb}')\n",
    "print(f'Test R2: \\t {r2_xgb}')"
   ]
  },
  {
   "cell_type": "code",
   "execution_count": 7,
   "metadata": {},
   "outputs": [
    {
     "name": "stdout",
     "output_type": "stream",
     "text": [
      "Train MSE: \t 0.0\n",
      "Test MSE: \t 0.30768786363636363\n",
      "Train R2: \t 1.0\n",
      "Test R2: \t 0.731689846691645\n"
     ]
    }
   ],
   "source": [
    "# Decision Tree\n",
    "tree_model = DecisionTreeRegressor(random_state=42)\n",
    "tree_model.fit(X_train_scaled, y_train)\n",
    "\n",
    "y_train_tree = tree_model.predict(X_train_scaled)\n",
    "y_test_tree = tree_model.predict(X_test_scaled)\n",
    "\n",
    "train_mse_tree = mean_squared_error(y_train, y_train_tree)\n",
    "train_r2_tree = r2_score(y_train, y_train_tree)\n",
    "\n",
    "mse_tree = mean_squared_error(y_test, y_test_tree)\n",
    "r2_tree = r2_score(y_test, y_test_tree)\n",
    "\n",
    "DTree_metrics = {'MSE':mse_tree, 'R2':r2_tree}\n",
    "\n",
    "print(f'Train MSE: \\t {train_mse_tree}')\n",
    "print(f'Test MSE: \\t {mse_tree}')\n",
    "print(f'Train R2: \\t {train_r2_tree}')\n",
    "print(f'Test R2: \\t {r2_tree}')"
   ]
  },
  {
   "cell_type": "code",
   "execution_count": 8,
   "metadata": {},
   "outputs": [
    {
     "name": "stdout",
     "output_type": "stream",
     "text": [
      "Train MSE: \t 0.04231499002941153\n",
      "Test MSE: \t 0.25673043334091006\n",
      "Train R2: \t 0.9585807922851959\n",
      "Test R2: \t 0.776125775275853\n"
     ]
    },
    {
     "name": "stderr",
     "output_type": "stream",
     "text": [
      "/var/folders/_0/kyp2mnk90qn2fz6spd6zpns40000gn/T/ipykernel_10714/1199071222.py:3: DataConversionWarning: A column-vector y was passed when a 1d array was expected. Please change the shape of y to (n_samples,), for example using ravel().\n",
      "  forest_model.fit(X_train_scaled, y_train)\n"
     ]
    }
   ],
   "source": [
    "# Random Forest\n",
    "forest_model = RandomForestRegressor(random_state=42)\n",
    "forest_model.fit(X_train_scaled, y_train)\n",
    "\n",
    "y_train_forest = forest_model.predict(X_train_scaled)\n",
    "y_test_forest = forest_model.predict(X_test_scaled)\n",
    "\n",
    "train_mse_forest = mean_squared_error(y_train, y_train_forest)\n",
    "train_r2_forest = r2_score(y_train, y_train_forest)\n",
    "\n",
    "mse_forest = mean_squared_error(y_test, y_test_forest)\n",
    "r2_forest = r2_score(y_test, y_test_forest)\n",
    "\n",
    "Forest_metrics = {'MSE':mse_forest, 'R2':r2_forest}\n",
    "\n",
    "print(f'Train MSE: \\t {train_mse_forest}')\n",
    "print(f'Test MSE: \\t {mse_forest}')\n",
    "print(f'Train R2: \\t {train_r2_forest}')\n",
    "print(f'Test R2: \\t {r2_forest}')"
   ]
  },
  {
   "cell_type": "code",
   "execution_count": 9,
   "metadata": {},
   "outputs": [
    {
     "name": "stdout",
     "output_type": "stream",
     "text": [
      "Train MSE: \t 0.15843753400973856\n",
      "Test MSE: \t 0.2779567950484619\n",
      "Train R2: \t 1.0\n",
      "Test R2: \t 0.7576159507523135\n"
     ]
    },
    {
     "name": "stderr",
     "output_type": "stream",
     "text": [
      "/opt/anaconda3/lib/python3.11/site-packages/sklearn/utils/validation.py:1143: DataConversionWarning: A column-vector y was passed when a 1d array was expected. Please change the shape of y to (n_samples, ), for example using ravel().\n",
      "  y = column_or_1d(y, warn=True)\n"
     ]
    }
   ],
   "source": [
    "# SVR\n",
    "svr_model = SVR(kernel='rbf')\n",
    "svr_model.fit(X_train_scaled, y_train)\n",
    "\n",
    "y_train_svr = svr_model.predict(X_train_scaled)\n",
    "y_test_svr = svr_model.predict(X_test_scaled)\n",
    "\n",
    "train_mse_svr = mean_squared_error(y_train, y_train_svr)\n",
    "train_r2_svr = r2_score(y_train, y_train_tree)\n",
    "\n",
    "mse_svr = mean_squared_error(y_test, y_test_svr)\n",
    "r2_svr = r2_score(y_test, y_test_svr)\n",
    "\n",
    "SVR_metrics = {'MSE':mse_svr, 'R2':r2_svr}\n",
    "\n",
    "print(f'Train MSE: \\t {train_mse_svr}')\n",
    "print(f'Test MSE: \\t {mse_svr}')\n",
    "print(f'Train R2: \\t {train_r2_svr}')\n",
    "print(f'Test R2: \\t {r2_svr}')"
   ]
  },
  {
   "cell_type": "markdown",
   "metadata": {},
   "source": [
    "#### Cross-Validation for Regularization Parameter Tuning"
   ]
  },
  {
   "cell_type": "code",
   "execution_count": 19,
   "metadata": {},
   "outputs": [
    {
     "name": "stdout",
     "output_type": "stream",
     "text": [
      "Best alpha: {'alpha': 10}\n",
      "Best Ridge Train R²: 0.8301067235378031\n",
      "Best Ridge Test R²: 0.8452075328700599\n"
     ]
    }
   ],
   "source": [
    "# Define a grid of alpha values for Ridge\n",
    "param_grid = {'alpha': [0.01, 0.1, 1.0, 10, 100]}\n",
    "ridge_cv = GridSearchCV(Ridge(), param_grid, cv=5)\n",
    "ridge_cv.fit(X_train_scaled, y_train)\n",
    "\n",
    "# Best alpha\n",
    "print(\"Best alpha:\", ridge_cv.best_params_)\n",
    "\n",
    "# Evaluate the best model\n",
    "best_ridge_model = ridge_cv.best_estimator_\n",
    "print(\"Best Ridge Train R²:\", best_ridge_model.score(X_train_scaled, y_train))\n",
    "print(\"Best Ridge Test R²:\", best_ridge_model.score(X_test_scaled, y_test))"
   ]
  }
 ],
 "metadata": {
  "kernelspec": {
   "display_name": "base",
   "language": "python",
   "name": "python3"
  },
  "language_info": {
   "codemirror_mode": {
    "name": "ipython",
    "version": 3
   },
   "file_extension": ".py",
   "mimetype": "text/x-python",
   "name": "python",
   "nbconvert_exporter": "python",
   "pygments_lexer": "ipython3",
   "version": "3.11.7"
  }
 },
 "nbformat": 4,
 "nbformat_minor": 2
}
